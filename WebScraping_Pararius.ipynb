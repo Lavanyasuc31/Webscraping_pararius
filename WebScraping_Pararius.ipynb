{
 "cells": [
  {
   "cell_type": "code",
   "execution_count": null,
   "id": "6d4b7bd6",
   "metadata": {},
   "outputs": [],
   "source": [
    "#Seeting up the environment\n",
    "import requests\n",
    "from bs4 import BeautifulSoup as bs\n",
    "from csv import writer\n",
    "url=requests.get(\"https://www.pararius.com/apartments/amsterdam\")"
   ]
  },
  {
   "cell_type": "code",
   "execution_count": null,
   "id": "63ad68bd",
   "metadata": {},
   "outputs": [],
   "source": [
    "#parsing the HTML code\n",
    "soup = bs(url.content, 'html.parser')"
   ]
  },
  {
   "cell_type": "code",
   "execution_count": null,
   "id": "0f2e6df5",
   "metadata": {},
   "outputs": [],
   "source": [
    "\n",
    "#Traversing the HTML tree to extract required information and writing ot into a csv file\n",
    "lists = soup.find_all('section' , class_='listing-search-item')\n",
    "with open('housing.csv' , 'w' , encoding='utf8', newline= '') as file:\n",
    "    wri= writer(file)\n",
    "    header = [\"Title\" , \"Location\" , \"Price\" , \"Area\"]\n",
    "    wri.writerow(header)\n",
    "    \n",
    "    \n",
    "    \n",
    "    for list in lists:\n",
    "            title = list.find('a', class_=\"listing-search-item__link--title\").text.replace('\\n' , '')\n",
    "            location = list.find('div', class_=\"listing-search-item__sub-title\").text.replace('\\n' , '')\n",
    "            price = list.find('div', class_=\"listing-search-item__price\").text.replace('\\n' , '')\n",
    "            area = list.find('li', class_=\"illustrated-features__item--surface-area\").text.replace('\\n' , '')\n",
    "            \n",
    "            \n",
    "            info = [title, location, price, area]\n",
    "            wri.writerow(info)"
   ]
  }
 ],
 "metadata": {
  "kernelspec": {
   "display_name": "Python 3 (ipykernel)",
   "language": "python",
   "name": "python3"
  },
  "language_info": {
   "codemirror_mode": {
    "name": "ipython",
    "version": 3
   },
   "file_extension": ".py",
   "mimetype": "text/x-python",
   "name": "python",
   "nbconvert_exporter": "python",
   "pygments_lexer": "ipython3",
   "version": "3.9.6"
  }
 },
 "nbformat": 4,
 "nbformat_minor": 5
}
